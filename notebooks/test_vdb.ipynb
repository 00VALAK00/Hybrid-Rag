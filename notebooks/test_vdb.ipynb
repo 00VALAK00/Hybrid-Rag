{
 "cells": [
  {
   "cell_type": "code",
   "execution_count": 1,
   "id": "0c498b77",
   "metadata": {},
   "outputs": [
    {
     "name": "stdout",
     "output_type": "stream",
     "text": [
      "C:\\Users\\Iheb\\Desktop\\projects\\Hybrid RAG\n"
     ]
    },
    {
     "name": "stderr",
     "output_type": "stream",
     "text": [
      "c:\\Users\\Iheb\\Desktop\\projects\\Hybrid RAG\\.venv\\Lib\\site-packages\\tqdm\\auto.py:21: TqdmWarning: IProgress not found. Please update jupyter and ipywidgets. See https://ipywidgets.readthedocs.io/en/stable/user_install.html\n",
      "  from .autonotebook import tqdm as notebook_tqdm\n"
     ]
    }
   ],
   "source": [
    "import sys\n",
    "from pathlib import Path\n",
    "\n",
    "root_directory = Path().resolve().parent  \n",
    "sys.path.insert(0, str(root_directory))\n",
    "print(root_directory)\n",
    "\n",
    "from src.database.vectordb import QdrantVectorDB"
   ]
  },
  {
   "cell_type": "code",
   "execution_count": 2,
   "id": "f639d2fb",
   "metadata": {},
   "outputs": [],
   "source": [
    "vector_db_service = QdrantVectorDB()"
   ]
  },
  {
   "cell_type": "code",
   "execution_count": null,
   "id": "af321387",
   "metadata": {},
   "outputs": [],
   "source": [
    "embedded_chunks = vector_db_service.upsertData()  "
   ]
  },
  {
   "cell_type": "code",
   "execution_count": null,
   "id": "ab82fc76",
   "metadata": {},
   "outputs": [],
   "source": []
  }
 ],
 "metadata": {
  "kernelspec": {
   "display_name": ".venv",
   "language": "python",
   "name": "python3"
  },
  "language_info": {
   "codemirror_mode": {
    "name": "ipython",
    "version": 3
   },
   "file_extension": ".py",
   "mimetype": "text/x-python",
   "name": "python",
   "nbconvert_exporter": "python",
   "pygments_lexer": "ipython3",
   "version": "3.12.11"
  }
 },
 "nbformat": 4,
 "nbformat_minor": 5
}
